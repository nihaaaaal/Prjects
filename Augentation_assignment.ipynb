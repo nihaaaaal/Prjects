{
 "cells": [
  {
   "cell_type": "code",
   "execution_count": 4,
   "id": "0f95fde5",
   "metadata": {},
   "outputs": [],
   "source": [
    "#!pip install Augmentor\n",
    "import Augmentor"
   ]
  },
  {
   "cell_type": "code",
   "execution_count": 6,
   "id": "4ebac75d",
   "metadata": {},
   "outputs": [
    {
     "name": "stdout",
     "output_type": "stream",
     "text": [
      "Initialised with 4 image(s) found.\n",
      "Output directory set to C:\\\\Users\\\\Nihal Joshi\\\\Downloads\\\\num_plate\\\\number plate bengali\\output."
     ]
    },
    {
     "name": "stderr",
     "output_type": "stream",
     "text": [
      "Processing <PIL.Image.Image image mode=RGB size=275x183 at 0x25AFEA88400>: 100%|██████████| 100/100 [00:00<00:00, 141.07 Samples/s]\n"
     ]
    }
   ],
   "source": [
    "p = Augmentor.Pipeline(r\"C:\\\\Users\\\\Nihal Joshi\\\\Downloads\\\\num_plate\\\\number plate bengali\")\n",
    "p.zoom(probability=0.3, min_factor=0.8, max_factor=1.5)\n",
    "p.flip_top_bottom(probability=0.4)\n",
    "p.random_brightness(probability=0.3, min_factor=0.3, max_factor=1.2)\n",
    "p.random_distortion(probability=1,grid_width=4 ,grid_height=4, magnitude=8)\n",
    "p.flip_left_right(probability=0.4)\n",
    "p.crop_random(probability=0.3, percentage_area=0.2)\n",
    "p.sample(100)"
   ]
  },
  {
   "cell_type": "code",
   "execution_count": 7,
   "id": "c8458e66",
   "metadata": {},
   "outputs": [
    {
     "name": "stdout",
     "output_type": "stream",
     "text": [
      "Initialised with 10 image(s) found.\n",
      "Output directory set to C:\\\\Users\\\\Nihal Joshi\\\\Downloads\\\\num_plate\\\\number plate marathi\\output."
     ]
    },
    {
     "name": "stderr",
     "output_type": "stream",
     "text": [
      "Processing <PIL.Image.Image image mode=RGB size=300x168 at 0x25AFEA413D0>: 100%|██████████| 100/100 [00:00<00:00, 223.84 Samples/s]\n"
     ]
    }
   ],
   "source": [
    "p = Augmentor.Pipeline(r\"C:\\\\Users\\\\Nihal Joshi\\\\Downloads\\\\num_plate\\\\number plate marathi\")\n",
    "p.zoom(probability=0.3, min_factor=0.8, max_factor=1.5)\n",
    "p.flip_top_bottom(probability=0.4)\n",
    "p.random_brightness(probability=0.3, min_factor=0.3, max_factor=1.2)\n",
    "p.random_distortion(probability=1,grid_width=4 ,grid_height=4, magnitude=8)\n",
    "p.flip_left_right(probability=0.4)\n",
    "p.crop_random(probability=0.3, percentage_area=0.2)\n",
    "p.sample(100)"
   ]
  },
  {
   "cell_type": "code",
   "execution_count": 8,
   "id": "11325e6a",
   "metadata": {},
   "outputs": [
    {
     "name": "stdout",
     "output_type": "stream",
     "text": [
      "Initialised with 4 image(s) found.\n",
      "Output directory set to C:\\\\Users\\\\Nihal Joshi\\\\Downloads\\\\num_plate\\\\tamil number plate\\output."
     ]
    },
    {
     "name": "stderr",
     "output_type": "stream",
     "text": [
      "Processing <PIL.Image.Image image mode=RGB size=602x367 at 0x25AFEC39520>: 100%|██████████| 100/100 [00:09<00:00, 10.75 Samples/s] \n"
     ]
    }
   ],
   "source": [
    "p = Augmentor.Pipeline(r\"C:\\\\Users\\\\Nihal Joshi\\\\Downloads\\\\num_plate\\\\tamil number plate\")\n",
    "p.zoom(probability=0.3, min_factor=0.8, max_factor=1.5)\n",
    "p.flip_top_bottom(probability=0.4)\n",
    "p.random_brightness(probability=0.3, min_factor=0.3, max_factor=1.2)\n",
    "p.random_distortion(probability=1,grid_width=4 ,grid_height=4, magnitude=8)\n",
    "p.flip_left_right(probability=0.4)\n",
    "p.crop_random(probability=0.3, percentage_area=0.2)\n",
    "p.sample(100)"
   ]
  },
  {
   "cell_type": "code",
   "execution_count": null,
   "id": "9fcc78ed",
   "metadata": {},
   "outputs": [],
   "source": []
  }
 ],
 "metadata": {
  "kernelspec": {
   "display_name": "Python 3 (ipykernel)",
   "language": "python",
   "name": "python3"
  },
  "language_info": {
   "codemirror_mode": {
    "name": "ipython",
    "version": 3
   },
   "file_extension": ".py",
   "mimetype": "text/x-python",
   "name": "python",
   "nbconvert_exporter": "python",
   "pygments_lexer": "ipython3",
   "version": "3.9.12"
  }
 },
 "nbformat": 4,
 "nbformat_minor": 5
}
